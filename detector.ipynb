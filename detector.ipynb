{
 "cells": [
  {
   "cell_type": "code",
   "execution_count": 6,
   "metadata": {},
   "outputs": [],
   "source": [
    "#importing module from library keras\n",
    "from keras.models import load_model\n",
    "#importing 2 libraries: cv2 and numpy as np\n",
    "import cv2\n",
    "import numpy as np"
   ]
  },
  {
   "cell_type": "code",
   "execution_count": 7,
   "metadata": {},
   "outputs": [],
   "source": [
    "#loading the best model we got after training and testing\n",
    "model = load_model('model-017.model')\n",
    "\n",
    "#getting the region of intrest from video using cascade classifier\n",
    "face_clsfr=cv2.CascadeClassifier('haarcascade_frontalface_default.xml')\n",
    "\n",
    "#using default camera to get input data\n",
    "source=cv2.VideoCapture(0)\n",
    "\n",
    "#creating dictionary for mask and no mask\n",
    "labels_dict={0:'MASK',1:'NO MASK'}\n",
    "\n",
    "#creating dictionary for red and green boxes\n",
    "color_dict={0:(0,255,0),1:(0,0,255)}"
   ]
  },
  {
   "cell_type": "code",
   "execution_count": 8,
   "metadata": {},
   "outputs": [],
   "source": [
    "#running an infinite loop\n",
    "while(True):\n",
    "\n",
    "    #getting video input\n",
    "    ret,img=source.read()\n",
    "    \n",
    "    #grayscalling the video input\n",
    "    gray=cv2.cvtColor(img,cv2.COLOR_BGR2GRAY)\n",
    "    \n",
    "    #detecting face\n",
    "    faces=face_clsfr.detectMultiScale(gray,1.3,5)  \n",
    "\n",
    "    for x,y,w,h in faces:\n",
    "    \n",
    "        #for every frame taking out region of intrest and storing in variable resized\n",
    "        face_img=gray[y:y+w,x:x+w]\n",
    "        resized=cv2.resize(face_img,(100,100))\n",
    "        \n",
    "        #normalizing the input\n",
    "        normalized=resized/255.0\n",
    "        \n",
    "        #reshaping the input to 4D for NN to work on\n",
    "        reshaped=np.reshape(normalized,(1,100,100,1))\n",
    "        \n",
    "        #predicting wether person is wearing mask or not\n",
    "        result=model.predict(reshaped)\n",
    "\n",
    "        #storing the result wether person is wearing mask or not in variable label\n",
    "        label=np.argmax(result,axis=1)[0]\n",
    "      \n",
    "        #displaying rectangle around the ROI with the label\n",
    "        cv2.rectangle(img,(x,y),(x+w,y+h),color_dict[label],2)\n",
    "        cv2.rectangle(img,(x,y-40),(x+w,y),color_dict[label],-1)\n",
    "        cv2.putText(img, labels_dict[label], (x, y-10),cv2.FONT_HERSHEY_SIMPLEX,0.8,(255,255,255),2)\n",
    "        \n",
    "        \n",
    "    #giving the live output\n",
    "    cv2.imshow('LIVE',img)\n",
    "    \n",
    "    #registring keyboard input if any\n",
    "    key=cv2.waitKey(1)\n",
    "    \n",
    "    #checking if esc key is pressed to terminate the camera window\n",
    "    if(key==27):\n",
    "        break\n",
    "        \n",
    "cv2.destroyAllWindows()\n",
    "source.release()"
   ]
  },
  {
   "cell_type": "code",
   "execution_count": null,
   "metadata": {},
   "outputs": [],
   "source": []
  }
 ],
 "metadata": {
  "kernelspec": {
   "display_name": "Python 3",
   "language": "python",
   "name": "python3"
  },
  "language_info": {
   "codemirror_mode": {
    "name": "ipython",
    "version": 3
   },
   "file_extension": ".py",
   "mimetype": "text/x-python",
   "name": "python",
   "nbconvert_exporter": "python",
   "pygments_lexer": "ipython3",
   "version": "3.6.12"
  }
 },
 "nbformat": 4,
 "nbformat_minor": 2
}
