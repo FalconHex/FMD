{
 "cells": [
  {
   "cell_type": "code",
   "execution_count": 1,
   "metadata": {},
   "outputs": [
    {
     "name": "stdout",
     "output_type": "stream",
     "text": [
      "{'with mask': 0, 'without mask': 1}\n",
      "['with mask', 'without mask']\n",
      "[0, 1]\n"
     ]
    }
   ],
   "source": [
    "#importing 2 libraries: opencv and os\n",
    "import cv2,os\n",
    "\n",
    "#loading dataset from folder \"dataset\" into variable d_path\n",
    "d_path='dataset'\n",
    "#adding 2 sub folders into the list masked and without mask respectively\n",
    "cat=os.listdir(d_path)\n",
    "#creaing lables for masked and without mask as 0 and 1 dataset respectively\n",
    "labels=[i for i in range(len(cat))]\n",
    "\n",
    "#making dictionaries using labels as data and categories as key\n",
    "l_dict=dict(zip(cat,labels))\n",
    "\n",
    "#printing all of the above declared\n",
    "print(l_dict)\n",
    "print(cat)\n",
    "print(labels)"
   ]
  },
  {
   "cell_type": "code",
   "execution_count": 2,
   "metadata": {},
   "outputs": [],
   "source": [
    "#declaring variable with image size value 100\n",
    "img_size=100\n",
    "#creating 2 empty lists data and target to store\n",
    "data=[]\n",
    "target=[]\n",
    "\n",
    "#accessing sub folders masked and without mask one by one\n",
    "for category in cat:\n",
    "    #loading one folder at a time\n",
    "    folder_path=os.path.join(d_path,category)\n",
    "    #accessing image from the selected folder one by one and making a list\n",
    "    img_names=os.listdir(folder_path)\n",
    "        \n",
    "    #travesrsing through the list of images\n",
    "    for img_name in img_names:\n",
    "        #loading one image at a time\n",
    "        img_path=os.path.join(folder_path,img_name)\n",
    "        #using cv2 library to read image and take actions\n",
    "        img=cv2.imread(img_path)\n",
    "\n",
    "        try:\n",
    "            #Coverting the image into gray scale\n",
    "            gray=cv2.cvtColor(img,cv2.COLOR_BGR2GRAY)           \n",
    "            #resizing the gray scale into 100x100\n",
    "            resized=cv2.resize(gray,(img_size,img_size))\n",
    "            #appending each image into data after editing\n",
    "            data.append(resized)\n",
    "            #appending the label for corresponding image as 0(masked)  or  1(unmasked)\n",
    "            target.append(l_dict[category])\n",
    "            \n",
    "\n",
    "        #if any exception raised\n",
    "        except Exception as e:\n",
    "            print('Exception:',e)\n",
    "            "
   ]
  },
  {
   "cell_type": "code",
   "execution_count": 4,
   "metadata": {},
   "outputs": [],
   "source": [
    "#importing 1library: numpy as np\n",
    "import numpy as np\n",
    "\n",
    "#normalizing the pics by dividing by highest value of pixel range(255) and changing it to numpy array\n",
    "data=np.array(data)/255.0\n",
    "#converting into 4D shape because neural network requires 4D array\n",
    "data=np.reshape(data,(data.shape[0],img_size,img_size,1))\n",
    "#converting array target into numpy array\n",
    "target=np.array(target)\n",
    "\n",
    "#using library: keras\n",
    "from keras.utils import np_utils\n",
    "\n",
    "#using function categorical as our NN has 2 nodes in the end masked and un-masked\n",
    "new_tar=np_utils.to_categorical(target)"
   ]
  },
  {
   "cell_type": "code",
   "execution_count": 5,
   "metadata": {},
   "outputs": [],
   "source": [
    "#saving all the data back to system\n",
    "np.save('data',data)\n",
    "np.save('target',new_tar)"
   ]
  },
  {
   "cell_type": "code",
   "execution_count": null,
   "metadata": {},
   "outputs": [],
   "source": []
  }
 ],
 "metadata": {
  "kernelspec": {
   "display_name": "Python 3",
   "language": "python",
   "name": "python3"
  },
  "language_info": {
   "codemirror_mode": {
    "name": "ipython",
    "version": 3
   },
   "file_extension": ".py",
   "mimetype": "text/x-python",
   "name": "python",
   "nbconvert_exporter": "python",
   "pygments_lexer": "ipython3",
   "version": "3.6.12"
  }
 },
 "nbformat": 4,
 "nbformat_minor": 2
}
